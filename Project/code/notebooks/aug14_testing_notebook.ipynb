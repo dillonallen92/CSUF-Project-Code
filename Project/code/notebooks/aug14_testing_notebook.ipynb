{
 "cells": [
  {
   "cell_type": "markdown",
   "id": "0c78bb68",
   "metadata": {},
   "source": [
    "# August 14 Testing Notebook\n",
    "\n",
    "#### Goals\n",
    "In this notebook, our goal is to:\n",
    "\n",
    "- Explore the aggregated data for Fresno and Kern that was created by Mario\n",
    "- use the data in LSTM model\n",
    "- use the data in Transformer model"
   ]
  },
  {
   "cell_type": "code",
   "execution_count": 1,
   "id": "2a135c4f",
   "metadata": {},
   "outputs": [],
   "source": [
    "import numpy as np\n",
    "import matplotlib.pyplot as plt \n",
    "import pandas as pd\n",
    "import torch\n",
    "import torch.optim as optim \n",
    "import torch.nn as nn\n",
    "import sys \n",
    "import os \n",
    "\n",
    "sys.path.append(os.path.abspath('..'))\n",
    "\n",
    "from torch.utils.data import TensorDataset, DataLoader\n",
    "from models import LSTM, TransformerModel"
   ]
  },
  {
   "cell_type": "markdown",
   "id": "658b5a36",
   "metadata": {},
   "source": [
    "Importing the Data"
   ]
  },
  {
   "cell_type": "code",
   "execution_count": 2,
   "id": "4c638087",
   "metadata": {},
   "outputs": [],
   "source": [
    "fresno_data = pd.read_csv(\"../../data/Fresno_Aggregate.csv\")"
   ]
  },
  {
   "cell_type": "code",
   "execution_count": 3,
   "id": "cfb25af1",
   "metadata": {},
   "outputs": [
    {
     "data": {
      "text/html": [
       "<div>\n",
       "<style scoped>\n",
       "    .dataframe tbody tr th:only-of-type {\n",
       "        vertical-align: middle;\n",
       "    }\n",
       "\n",
       "    .dataframe tbody tr th {\n",
       "        vertical-align: top;\n",
       "    }\n",
       "\n",
       "    .dataframe thead th {\n",
       "        text-align: right;\n",
       "    }\n",
       "</style>\n",
       "<table border=\"1\" class=\"dataframe\">\n",
       "  <thead>\n",
       "    <tr style=\"text-align: right;\">\n",
       "      <th></th>\n",
       "      <th>Year-Month</th>\n",
       "      <th>VFRate</th>\n",
       "      <th>FIRE_Acres_Burned</th>\n",
       "      <th>PRECIP</th>\n",
       "      <th>WIND_EventCount</th>\n",
       "      <th>WIND_AvgMPH</th>\n",
       "      <th>WIND_RunMiles</th>\n",
       "      <th>AQI_PM25</th>\n",
       "      <th>AQI_PM10</th>\n",
       "      <th>EARTHQUAKE_Total</th>\n",
       "      <th>PESTICIDE_Total</th>\n",
       "    </tr>\n",
       "  </thead>\n",
       "  <tbody>\n",
       "    <tr>\n",
       "      <th>0</th>\n",
       "      <td>2008-10</td>\n",
       "      <td>6.156349</td>\n",
       "      <td>163.91</td>\n",
       "      <td>0.18</td>\n",
       "      <td>0.0</td>\n",
       "      <td>3.667742</td>\n",
       "      <td>87.825806</td>\n",
       "      <td>70.0</td>\n",
       "      <td>53.0</td>\n",
       "      <td>0</td>\n",
       "      <td>23.056051</td>\n",
       "    </tr>\n",
       "    <tr>\n",
       "      <th>1</th>\n",
       "      <td>2008-11</td>\n",
       "      <td>3.407979</td>\n",
       "      <td>17.30</td>\n",
       "      <td>1.49</td>\n",
       "      <td>0.0</td>\n",
       "      <td>3.106667</td>\n",
       "      <td>74.490000</td>\n",
       "      <td>95.5</td>\n",
       "      <td>38.5</td>\n",
       "      <td>0</td>\n",
       "      <td>0.519323</td>\n",
       "    </tr>\n",
       "    <tr>\n",
       "      <th>2</th>\n",
       "      <td>2008-12</td>\n",
       "      <td>6.486154</td>\n",
       "      <td>0.00</td>\n",
       "      <td>1.19</td>\n",
       "      <td>0.0</td>\n",
       "      <td>3.306452</td>\n",
       "      <td>79.312903</td>\n",
       "      <td>94.0</td>\n",
       "      <td>18.5</td>\n",
       "      <td>0</td>\n",
       "      <td>0.000000</td>\n",
       "    </tr>\n",
       "    <tr>\n",
       "      <th>3</th>\n",
       "      <td>2009-01</td>\n",
       "      <td>6.619800</td>\n",
       "      <td>1.00</td>\n",
       "      <td>1.25</td>\n",
       "      <td>0.0</td>\n",
       "      <td>2.587097</td>\n",
       "      <td>62.019355</td>\n",
       "      <td>102.0</td>\n",
       "      <td>33.0</td>\n",
       "      <td>0</td>\n",
       "      <td>24.630400</td>\n",
       "    </tr>\n",
       "    <tr>\n",
       "      <th>4</th>\n",
       "      <td>2009-02</td>\n",
       "      <td>5.751629</td>\n",
       "      <td>28.00</td>\n",
       "      <td>2.33</td>\n",
       "      <td>0.0</td>\n",
       "      <td>3.928571</td>\n",
       "      <td>94.096429</td>\n",
       "      <td>51.5</td>\n",
       "      <td>13.0</td>\n",
       "      <td>0</td>\n",
       "      <td>71.542885</td>\n",
       "    </tr>\n",
       "    <tr>\n",
       "      <th>...</th>\n",
       "      <td>...</td>\n",
       "      <td>...</td>\n",
       "      <td>...</td>\n",
       "      <td>...</td>\n",
       "      <td>...</td>\n",
       "      <td>...</td>\n",
       "      <td>...</td>\n",
       "      <td>...</td>\n",
       "      <td>...</td>\n",
       "      <td>...</td>\n",
       "      <td>...</td>\n",
       "    </tr>\n",
       "    <tr>\n",
       "      <th>82</th>\n",
       "      <td>2015-08</td>\n",
       "      <td>2.569621</td>\n",
       "      <td>28.06</td>\n",
       "      <td>0.00</td>\n",
       "      <td>0.0</td>\n",
       "      <td>4.900000</td>\n",
       "      <td>117.664516</td>\n",
       "      <td>63.0</td>\n",
       "      <td>44.0</td>\n",
       "      <td>0</td>\n",
       "      <td>737.718551</td>\n",
       "    </tr>\n",
       "    <tr>\n",
       "      <th>83</th>\n",
       "      <td>2015-09</td>\n",
       "      <td>2.775191</td>\n",
       "      <td>210.76</td>\n",
       "      <td>0.06</td>\n",
       "      <td>0.0</td>\n",
       "      <td>4.046667</td>\n",
       "      <td>97.216667</td>\n",
       "      <td>62.0</td>\n",
       "      <td>52.0</td>\n",
       "      <td>0</td>\n",
       "      <td>544.970947</td>\n",
       "    </tr>\n",
       "    <tr>\n",
       "      <th>84</th>\n",
       "      <td>2015-10</td>\n",
       "      <td>5.344812</td>\n",
       "      <td>16.99</td>\n",
       "      <td>0.41</td>\n",
       "      <td>0.0</td>\n",
       "      <td>3.503226</td>\n",
       "      <td>84.058065</td>\n",
       "      <td>63.0</td>\n",
       "      <td>38.0</td>\n",
       "      <td>0</td>\n",
       "      <td>181.244457</td>\n",
       "    </tr>\n",
       "    <tr>\n",
       "      <th>85</th>\n",
       "      <td>2015-11</td>\n",
       "      <td>2.569621</td>\n",
       "      <td>30.46</td>\n",
       "      <td>2.13</td>\n",
       "      <td>0.0</td>\n",
       "      <td>3.116667</td>\n",
       "      <td>74.736667</td>\n",
       "      <td>75.0</td>\n",
       "      <td>26.5</td>\n",
       "      <td>0</td>\n",
       "      <td>263.108466</td>\n",
       "    </tr>\n",
       "    <tr>\n",
       "      <th>86</th>\n",
       "      <td>2015-12</td>\n",
       "      <td>2.055697</td>\n",
       "      <td>0.63</td>\n",
       "      <td>3.30</td>\n",
       "      <td>0.0</td>\n",
       "      <td>3.325806</td>\n",
       "      <td>79.945161</td>\n",
       "      <td>83.0</td>\n",
       "      <td>26.0</td>\n",
       "      <td>0</td>\n",
       "      <td>47.263472</td>\n",
       "    </tr>\n",
       "  </tbody>\n",
       "</table>\n",
       "<p>87 rows × 11 columns</p>\n",
       "</div>"
      ],
      "text/plain": [
       "   Year-Month    VFRate  FIRE_Acres_Burned  PRECIP  WIND_EventCount  \\\n",
       "0     2008-10  6.156349             163.91    0.18              0.0   \n",
       "1     2008-11  3.407979              17.30    1.49              0.0   \n",
       "2     2008-12  6.486154               0.00    1.19              0.0   \n",
       "3     2009-01  6.619800               1.00    1.25              0.0   \n",
       "4     2009-02  5.751629              28.00    2.33              0.0   \n",
       "..        ...       ...                ...     ...              ...   \n",
       "82    2015-08  2.569621              28.06    0.00              0.0   \n",
       "83    2015-09  2.775191             210.76    0.06              0.0   \n",
       "84    2015-10  5.344812              16.99    0.41              0.0   \n",
       "85    2015-11  2.569621              30.46    2.13              0.0   \n",
       "86    2015-12  2.055697               0.63    3.30              0.0   \n",
       "\n",
       "    WIND_AvgMPH  WIND_RunMiles  AQI_PM25  AQI_PM10  EARTHQUAKE_Total  \\\n",
       "0      3.667742      87.825806      70.0      53.0                 0   \n",
       "1      3.106667      74.490000      95.5      38.5                 0   \n",
       "2      3.306452      79.312903      94.0      18.5                 0   \n",
       "3      2.587097      62.019355     102.0      33.0                 0   \n",
       "4      3.928571      94.096429      51.5      13.0                 0   \n",
       "..          ...            ...       ...       ...               ...   \n",
       "82     4.900000     117.664516      63.0      44.0                 0   \n",
       "83     4.046667      97.216667      62.0      52.0                 0   \n",
       "84     3.503226      84.058065      63.0      38.0                 0   \n",
       "85     3.116667      74.736667      75.0      26.5                 0   \n",
       "86     3.325806      79.945161      83.0      26.0                 0   \n",
       "\n",
       "    PESTICIDE_Total  \n",
       "0         23.056051  \n",
       "1          0.519323  \n",
       "2          0.000000  \n",
       "3         24.630400  \n",
       "4         71.542885  \n",
       "..              ...  \n",
       "82       737.718551  \n",
       "83       544.970947  \n",
       "84       181.244457  \n",
       "85       263.108466  \n",
       "86        47.263472  \n",
       "\n",
       "[87 rows x 11 columns]"
      ]
     },
     "execution_count": 3,
     "metadata": {},
     "output_type": "execute_result"
    }
   ],
   "source": [
    "fresno_data"
   ]
  },
  {
   "cell_type": "code",
   "execution_count": 4,
   "id": "f5527932",
   "metadata": {},
   "outputs": [],
   "source": [
    "f_data = fresno_data.copy()"
   ]
  },
  {
   "cell_type": "code",
   "execution_count": 5,
   "id": "d206a58d",
   "metadata": {},
   "outputs": [
    {
     "data": {
      "text/html": [
       "<div>\n",
       "<style scoped>\n",
       "    .dataframe tbody tr th:only-of-type {\n",
       "        vertical-align: middle;\n",
       "    }\n",
       "\n",
       "    .dataframe tbody tr th {\n",
       "        vertical-align: top;\n",
       "    }\n",
       "\n",
       "    .dataframe thead th {\n",
       "        text-align: right;\n",
       "    }\n",
       "</style>\n",
       "<table border=\"1\" class=\"dataframe\">\n",
       "  <thead>\n",
       "    <tr style=\"text-align: right;\">\n",
       "      <th></th>\n",
       "      <th>VFRate</th>\n",
       "      <th>FIRE_Acres_Burned</th>\n",
       "      <th>PRECIP</th>\n",
       "      <th>WIND_EventCount</th>\n",
       "      <th>WIND_AvgMPH</th>\n",
       "      <th>WIND_RunMiles</th>\n",
       "      <th>AQI_PM25</th>\n",
       "      <th>AQI_PM10</th>\n",
       "      <th>EARTHQUAKE_Total</th>\n",
       "      <th>PESTICIDE_Total</th>\n",
       "    </tr>\n",
       "    <tr>\n",
       "      <th>Year-Month</th>\n",
       "      <th></th>\n",
       "      <th></th>\n",
       "      <th></th>\n",
       "      <th></th>\n",
       "      <th></th>\n",
       "      <th></th>\n",
       "      <th></th>\n",
       "      <th></th>\n",
       "      <th></th>\n",
       "      <th></th>\n",
       "    </tr>\n",
       "  </thead>\n",
       "  <tbody>\n",
       "    <tr>\n",
       "      <th>2008-10-01</th>\n",
       "      <td>6.156349</td>\n",
       "      <td>163.91</td>\n",
       "      <td>0.18</td>\n",
       "      <td>0.0</td>\n",
       "      <td>3.667742</td>\n",
       "      <td>87.825806</td>\n",
       "      <td>70.0</td>\n",
       "      <td>53.0</td>\n",
       "      <td>0</td>\n",
       "      <td>23.056051</td>\n",
       "    </tr>\n",
       "    <tr>\n",
       "      <th>2008-11-01</th>\n",
       "      <td>3.407979</td>\n",
       "      <td>17.30</td>\n",
       "      <td>1.49</td>\n",
       "      <td>0.0</td>\n",
       "      <td>3.106667</td>\n",
       "      <td>74.490000</td>\n",
       "      <td>95.5</td>\n",
       "      <td>38.5</td>\n",
       "      <td>0</td>\n",
       "      <td>0.519323</td>\n",
       "    </tr>\n",
       "    <tr>\n",
       "      <th>2008-12-01</th>\n",
       "      <td>6.486154</td>\n",
       "      <td>0.00</td>\n",
       "      <td>1.19</td>\n",
       "      <td>0.0</td>\n",
       "      <td>3.306452</td>\n",
       "      <td>79.312903</td>\n",
       "      <td>94.0</td>\n",
       "      <td>18.5</td>\n",
       "      <td>0</td>\n",
       "      <td>0.000000</td>\n",
       "    </tr>\n",
       "    <tr>\n",
       "      <th>2009-01-01</th>\n",
       "      <td>6.619800</td>\n",
       "      <td>1.00</td>\n",
       "      <td>1.25</td>\n",
       "      <td>0.0</td>\n",
       "      <td>2.587097</td>\n",
       "      <td>62.019355</td>\n",
       "      <td>102.0</td>\n",
       "      <td>33.0</td>\n",
       "      <td>0</td>\n",
       "      <td>24.630400</td>\n",
       "    </tr>\n",
       "    <tr>\n",
       "      <th>2009-02-01</th>\n",
       "      <td>5.751629</td>\n",
       "      <td>28.00</td>\n",
       "      <td>2.33</td>\n",
       "      <td>0.0</td>\n",
       "      <td>3.928571</td>\n",
       "      <td>94.096429</td>\n",
       "      <td>51.5</td>\n",
       "      <td>13.0</td>\n",
       "      <td>0</td>\n",
       "      <td>71.542885</td>\n",
       "    </tr>\n",
       "    <tr>\n",
       "      <th>...</th>\n",
       "      <td>...</td>\n",
       "      <td>...</td>\n",
       "      <td>...</td>\n",
       "      <td>...</td>\n",
       "      <td>...</td>\n",
       "      <td>...</td>\n",
       "      <td>...</td>\n",
       "      <td>...</td>\n",
       "      <td>...</td>\n",
       "      <td>...</td>\n",
       "    </tr>\n",
       "    <tr>\n",
       "      <th>2015-08-01</th>\n",
       "      <td>2.569621</td>\n",
       "      <td>28.06</td>\n",
       "      <td>0.00</td>\n",
       "      <td>0.0</td>\n",
       "      <td>4.900000</td>\n",
       "      <td>117.664516</td>\n",
       "      <td>63.0</td>\n",
       "      <td>44.0</td>\n",
       "      <td>0</td>\n",
       "      <td>737.718551</td>\n",
       "    </tr>\n",
       "    <tr>\n",
       "      <th>2015-09-01</th>\n",
       "      <td>2.775191</td>\n",
       "      <td>210.76</td>\n",
       "      <td>0.06</td>\n",
       "      <td>0.0</td>\n",
       "      <td>4.046667</td>\n",
       "      <td>97.216667</td>\n",
       "      <td>62.0</td>\n",
       "      <td>52.0</td>\n",
       "      <td>0</td>\n",
       "      <td>544.970947</td>\n",
       "    </tr>\n",
       "    <tr>\n",
       "      <th>2015-10-01</th>\n",
       "      <td>5.344812</td>\n",
       "      <td>16.99</td>\n",
       "      <td>0.41</td>\n",
       "      <td>0.0</td>\n",
       "      <td>3.503226</td>\n",
       "      <td>84.058065</td>\n",
       "      <td>63.0</td>\n",
       "      <td>38.0</td>\n",
       "      <td>0</td>\n",
       "      <td>181.244457</td>\n",
       "    </tr>\n",
       "    <tr>\n",
       "      <th>2015-11-01</th>\n",
       "      <td>2.569621</td>\n",
       "      <td>30.46</td>\n",
       "      <td>2.13</td>\n",
       "      <td>0.0</td>\n",
       "      <td>3.116667</td>\n",
       "      <td>74.736667</td>\n",
       "      <td>75.0</td>\n",
       "      <td>26.5</td>\n",
       "      <td>0</td>\n",
       "      <td>263.108466</td>\n",
       "    </tr>\n",
       "    <tr>\n",
       "      <th>2015-12-01</th>\n",
       "      <td>2.055697</td>\n",
       "      <td>0.63</td>\n",
       "      <td>3.30</td>\n",
       "      <td>0.0</td>\n",
       "      <td>3.325806</td>\n",
       "      <td>79.945161</td>\n",
       "      <td>83.0</td>\n",
       "      <td>26.0</td>\n",
       "      <td>0</td>\n",
       "      <td>47.263472</td>\n",
       "    </tr>\n",
       "  </tbody>\n",
       "</table>\n",
       "<p>87 rows × 10 columns</p>\n",
       "</div>"
      ],
      "text/plain": [
       "              VFRate  FIRE_Acres_Burned  PRECIP  WIND_EventCount  WIND_AvgMPH  \\\n",
       "Year-Month                                                                      \n",
       "2008-10-01  6.156349             163.91    0.18              0.0     3.667742   \n",
       "2008-11-01  3.407979              17.30    1.49              0.0     3.106667   \n",
       "2008-12-01  6.486154               0.00    1.19              0.0     3.306452   \n",
       "2009-01-01  6.619800               1.00    1.25              0.0     2.587097   \n",
       "2009-02-01  5.751629              28.00    2.33              0.0     3.928571   \n",
       "...              ...                ...     ...              ...          ...   \n",
       "2015-08-01  2.569621              28.06    0.00              0.0     4.900000   \n",
       "2015-09-01  2.775191             210.76    0.06              0.0     4.046667   \n",
       "2015-10-01  5.344812              16.99    0.41              0.0     3.503226   \n",
       "2015-11-01  2.569621              30.46    2.13              0.0     3.116667   \n",
       "2015-12-01  2.055697               0.63    3.30              0.0     3.325806   \n",
       "\n",
       "            WIND_RunMiles  AQI_PM25  AQI_PM10  EARTHQUAKE_Total  \\\n",
       "Year-Month                                                        \n",
       "2008-10-01      87.825806      70.0      53.0                 0   \n",
       "2008-11-01      74.490000      95.5      38.5                 0   \n",
       "2008-12-01      79.312903      94.0      18.5                 0   \n",
       "2009-01-01      62.019355     102.0      33.0                 0   \n",
       "2009-02-01      94.096429      51.5      13.0                 0   \n",
       "...                   ...       ...       ...               ...   \n",
       "2015-08-01     117.664516      63.0      44.0                 0   \n",
       "2015-09-01      97.216667      62.0      52.0                 0   \n",
       "2015-10-01      84.058065      63.0      38.0                 0   \n",
       "2015-11-01      74.736667      75.0      26.5                 0   \n",
       "2015-12-01      79.945161      83.0      26.0                 0   \n",
       "\n",
       "            PESTICIDE_Total  \n",
       "Year-Month                   \n",
       "2008-10-01        23.056051  \n",
       "2008-11-01         0.519323  \n",
       "2008-12-01         0.000000  \n",
       "2009-01-01        24.630400  \n",
       "2009-02-01        71.542885  \n",
       "...                     ...  \n",
       "2015-08-01       737.718551  \n",
       "2015-09-01       544.970947  \n",
       "2015-10-01       181.244457  \n",
       "2015-11-01       263.108466  \n",
       "2015-12-01        47.263472  \n",
       "\n",
       "[87 rows x 10 columns]"
      ]
     },
     "execution_count": 5,
     "metadata": {},
     "output_type": "execute_result"
    }
   ],
   "source": [
    "f_data[\"Year-Month\"] = pd.to_datetime(f_data[\"Year-Month\"])\n",
    "f_data = f_data.set_index('Year-Month')\n",
    "f_data"
   ]
  },
  {
   "cell_type": "code",
   "execution_count": 6,
   "id": "c7d3a2e5",
   "metadata": {},
   "outputs": [
    {
     "data": {
      "image/png": "[encoded data removed]",
      "text/plain": [
       "<Figure size 640x480 with 1 Axes>"
      ]
     },
     "metadata": {},
     "output_type": "display_data"
    }
   ],
   "source": [
    "plt.scatter(f_data.index, f_data[\"VFRate\"])\n",
    "plt.show()"
   ]
  },
  {
   "cell_type": "markdown",
   "id": "064c2667",
   "metadata": {},
   "source": [
    "## Experiment 1: Taking all predictors (besides VFRate)"
   ]
  },
  {
   "cell_type": "code",
   "execution_count": 7,
   "id": "182691cb",
   "metadata": {},
   "outputs": [
    {
     "data": {
      "text/plain": [
       "Index(['VFRate', 'FIRE_Acres_Burned', 'PRECIP', 'WIND_EventCount',\n",
       "       'WIND_AvgMPH', 'WIND_RunMiles', 'AQI_PM25', 'AQI_PM10',\n",
       "       'EARTHQUAKE_Total', 'PESTICIDE_Total'],\n",
       "      dtype='object')"
      ]
     },
     "execution_count": 7,
     "metadata": {},
     "output_type": "execute_result"
    }
   ],
   "source": [
    "f_data.columns"
   ]
  },
  {
   "cell_type": "code",
   "execution_count": 8,
   "id": "754206a8",
   "metadata": {},
   "outputs": [],
   "source": [
    "target_cols = [\"FIRE_Acres_Burned\", \"PRECIP\", \"WIND_EventCount\", \"WIND_AvgMPH\", \n",
    "               \"WIND_RunMiles\", \"AQI_PM25\", \"AQI_PM10\", \"EARTHQUAKE_Total\", \"PESTICIDE_Total\"]\n",
    "X = f_data[target_cols]\n",
    "y = f_data[\"VFRate\"]"
   ]
  },
  {
   "cell_type": "code",
   "execution_count": 9,
   "id": "8dfe0e83",
   "metadata": {},
   "outputs": [
    {
     "data": {
      "text/html": [
       "<div>\n",
       "<style scoped>\n",
       "    .dataframe tbody tr th:only-of-type {\n",
       "        vertical-align: middle;\n",
       "    }\n",
       "\n",
       "    .dataframe tbody tr th {\n",
       "        vertical-align: top;\n",
       "    }\n",
       "\n",
       "    .dataframe thead th {\n",
       "        text-align: right;\n",
       "    }\n",
       "</style>\n",
       "<table border=\"1\" class=\"dataframe\">\n",
       "  <thead>\n",
       "    <tr style=\"text-align: right;\">\n",
       "      <th></th>\n",
       "      <th>FIRE_Acres_Burned</th>\n",
       "      <th>PRECIP</th>\n",
       "      <th>WIND_EventCount</th>\n",
       "      <th>WIND_AvgMPH</th>\n",
       "      <th>WIND_RunMiles</th>\n",
       "      <th>AQI_PM25</th>\n",
       "      <th>AQI_PM10</th>\n",
       "      <th>EARTHQUAKE_Total</th>\n",
       "      <th>PESTICIDE_Total</th>\n",
       "    </tr>\n",
       "    <tr>\n",
       "      <th>Year-Month</th>\n",
       "      <th></th>\n",
       "      <th></th>\n",
       "      <th></th>\n",
       "      <th></th>\n",
       "      <th></th>\n",
       "      <th></th>\n",
       "      <th></th>\n",
       "      <th></th>\n",
       "      <th></th>\n",
       "    </tr>\n",
       "  </thead>\n",
       "  <tbody>\n",
       "    <tr>\n",
       "      <th>2008-10-01</th>\n",
       "      <td>163.91</td>\n",
       "      <td>0.18</td>\n",
       "      <td>0.0</td>\n",
       "      <td>3.667742</td>\n",
       "      <td>87.825806</td>\n",
       "      <td>70.0</td>\n",
       "      <td>53.0</td>\n",
       "      <td>0</td>\n",
       "      <td>23.056051</td>\n",
       "    </tr>\n",
       "    <tr>\n",
       "      <th>2008-11-01</th>\n",
       "      <td>17.30</td>\n",
       "      <td>1.49</td>\n",
       "      <td>0.0</td>\n",
       "      <td>3.106667</td>\n",
       "      <td>74.490000</td>\n",
       "      <td>95.5</td>\n",
       "      <td>38.5</td>\n",
       "      <td>0</td>\n",
       "      <td>0.519323</td>\n",
       "    </tr>\n",
       "    <tr>\n",
       "      <th>2008-12-01</th>\n",
       "      <td>0.00</td>\n",
       "      <td>1.19</td>\n",
       "      <td>0.0</td>\n",
       "      <td>3.306452</td>\n",
       "      <td>79.312903</td>\n",
       "      <td>94.0</td>\n",
       "      <td>18.5</td>\n",
       "      <td>0</td>\n",
       "      <td>0.000000</td>\n",
       "    </tr>\n",
       "    <tr>\n",
       "      <th>2009-01-01</th>\n",
       "      <td>1.00</td>\n",
       "      <td>1.25</td>\n",
       "      <td>0.0</td>\n",
       "      <td>2.587097</td>\n",
       "      <td>62.019355</td>\n",
       "      <td>102.0</td>\n",
       "      <td>33.0</td>\n",
       "      <td>0</td>\n",
       "      <td>24.630400</td>\n",
       "    </tr>\n",
       "    <tr>\n",
       "      <th>2009-02-01</th>\n",
       "      <td>28.00</td>\n",
       "      <td>2.33</td>\n",
       "      <td>0.0</td>\n",
       "      <td>3.928571</td>\n",
       "      <td>94.096429</td>\n",
       "      <td>51.5</td>\n",
       "      <td>13.0</td>\n",
       "      <td>0</td>\n",
       "      <td>71.542885</td>\n",
       "    </tr>\n",
       "  </tbody>\n",
       "</table>\n",
       "</div>"
      ],
      "text/plain": [
       "            FIRE_Acres_Burned  PRECIP  WIND_EventCount  WIND_AvgMPH  \\\n",
       "Year-Month                                                            \n",
       "2008-10-01             163.91    0.18              0.0     3.667742   \n",
       "2008-11-01              17.30    1.49              0.0     3.106667   \n",
       "2008-12-01               0.00    1.19              0.0     3.306452   \n",
       "2009-01-01               1.00    1.25              0.0     2.587097   \n",
       "2009-02-01              28.00    2.33              0.0     3.928571   \n",
       "\n",
       "            WIND_RunMiles  AQI_PM25  AQI_PM10  EARTHQUAKE_Total  \\\n",
       "Year-Month                                                        \n",
       "2008-10-01      87.825806      70.0      53.0                 0   \n",
       "2008-11-01      74.490000      95.5      38.5                 0   \n",
       "2008-12-01      79.312903      94.0      18.5                 0   \n",
       "2009-01-01      62.019355     102.0      33.0                 0   \n",
       "2009-02-01      94.096429      51.5      13.0                 0   \n",
       "\n",
       "            PESTICIDE_Total  \n",
       "Year-Month                   \n",
       "2008-10-01        23.056051  \n",
       "2008-11-01         0.519323  \n",
       "2008-12-01         0.000000  \n",
       "2009-01-01        24.630400  \n",
       "2009-02-01        71.542885  "
      ]
     },
     "execution_count": 9,
     "metadata": {},
     "output_type": "execute_result"
    }
   ],
   "source": [
    "X.head()"
   ]
  },
  {
   "cell_type": "code",
   "execution_count": 10,
   "id": "3015e74e",
   "metadata": {},
   "outputs": [
    {
     "data": {
      "text/plain": [
       "Year-Month\n",
       "2008-10-01    6.156349\n",
       "2008-11-01    3.407979\n",
       "2008-12-01    6.486154\n",
       "2009-01-01    6.619800\n",
       "2009-02-01    5.751629\n",
       "Name: VFRate, dtype: float64"
      ]
     },
     "execution_count": 10,
     "metadata": {},
     "output_type": "execute_result"
    }
   ],
   "source": [
    "y.head()"
   ]
  },
  {
   "cell_type": "code",
   "execution_count": 11,
   "id": "10d7fa32",
   "metadata": {},
   "outputs": [],
   "source": [
    "# helper functions\n",
    "\n",
    "def create_sequences(X, y, seq_length):\n",
    "  Xs, ys = [], [] \n",
    "  for idx in range(len(X) - seq_length):\n",
    "    Xs.append(X[idx:idx+seq_length])\n",
    "    ys.append(y[idx+seq_length])\n",
    "  return np.array(Xs), np.array(ys)\n"
   ]
  },
  {
   "cell_type": "markdown",
   "id": "d511e0f6",
   "metadata": {},
   "source": [
    "## Autocorrelation Test for VFRate to see if 12 month is valid to use"
   ]
  },
  {
   "cell_type": "code",
   "execution_count": 12,
   "id": "fe76c80b",
   "metadata": {},
   "outputs": [
    {
     "data": {
      "text/plain": [
       "<function matplotlib.pyplot.show(close=None, block=None)>"
      ]
     },
     "execution_count": 12,
     "metadata": {},
     "output_type": "execute_result"
    },
    {
     "data": {
      "image/png": "[encoded data removed]",
      "text/plain": [
       "<Figure size 640x480 with 1 Axes>"
      ]
     },
     "metadata": {},
     "output_type": "display_data"
    }
   ],
   "source": [
    "from statsmodels.graphics.tsaplots import plot_acf\n",
    "\n",
    "lags_to_check = 87//4 \n",
    "plot_acf(y, lags=lags_to_check, alpha=0.5)\n",
    "plt.show\n"
   ]
  },
  {
   "cell_type": "code",
   "execution_count": 13,
   "id": "c3417f32",
   "metadata": {},
   "outputs": [
    {
     "data": {
      "image/png": "[encoded data removed]",
      "text/plain": [
       "<Figure size 640x480 with 1 Axes>"
      ]
     },
     "execution_count": 13,
     "metadata": {},
     "output_type": "execute_result"
    },
    {
     "data": {
      "image/png": "[encoded data removed]",
      "text/plain": [
       "<Figure size 640x480 with 1 Axes>"
      ]
     },
     "metadata": {},
     "output_type": "display_data"
    }
   ],
   "source": [
    "l1 = 12\n",
    "l2 = 87//4\n",
    "\n",
    "from statsmodels.graphics.tsaplots import plot_pacf\n",
    "plot_pacf(y, lags=l1, alpha=0.5)"
   ]
  },
  {
   "cell_type": "markdown",
   "id": "b75eb0b0",
   "metadata": {},
   "source": [
    "Since Valley Fever is not communicable, looking at autocorrelation, lag, and even including it in the feature vector probably isn't useful. So I will keep it out and just keep the VFRate value in its target vector form, as is."
   ]
  },
  {
   "cell_type": "code",
   "execution_count": 14,
   "id": "b2e32451",
   "metadata": {},
   "outputs": [
    {
     "name": "stderr",
     "output_type": "stream",
     "text": [
      "/var/folders/t9/31hxp9pj31j5vk49l32mdc500000gn/T/ipykernel_4619/404682972.py:7: FutureWarning: Series.__getitem__ treating keys as positions is deprecated. In a future version, integer keys will always be treated as labels (consistent with DataFrame behavior). To access a value by position, use `ser.iloc[pos]`\n",
      "  ys.append(y[idx+seq_length])\n"
     ]
    }
   ],
   "source": [
    "# train/test split\n",
    "seq_length = 12\n",
    "features, target = create_sequences(X, y, seq_length=seq_length)"
   ]
  },
  {
   "cell_type": "code",
   "execution_count": 15,
   "id": "afc3519d",
   "metadata": {},
   "outputs": [
    {
     "name": "stdout",
     "output_type": "stream",
     "text": [
      "(75, 12, 9) (75,)\n"
     ]
    }
   ],
   "source": [
    "print(features.shape, target.shape)"
   ]
  },
  {
   "cell_type": "code",
   "execution_count": 16,
   "id": "7ed516e6",
   "metadata": {},
   "outputs": [],
   "source": [
    "# convert into tensors\n",
    "features = torch.tensor(features, dtype=torch.float32)\n",
    "target   = torch.tensor(target, dtype=torch.float32)"
   ]
  },
  {
   "cell_type": "code",
   "execution_count": 17,
   "id": "ad5ea1c9",
   "metadata": {},
   "outputs": [],
   "source": [
    "# Train/Test split\n",
    "split_frac = 0.80\n",
    "split_idx = int(len(features)*split_frac)\n",
    "X_train, X_test = features[:split_idx], features[split_idx:]\n",
    "y_train, y_test = target[:split_idx], target[split_idx:]"
   ]
  },
  {
   "cell_type": "code",
   "execution_count": 18,
   "id": "032956e5",
   "metadata": {},
   "outputs": [
    {
     "data": {
      "text/plain": [
       "tensor([[[1.6391e+02, 1.8000e-01, 0.0000e+00,  ..., 5.3000e+01,\n",
       "          0.0000e+00, 2.3056e+01],\n",
       "         [1.7300e+01, 1.4900e+00, 0.0000e+00,  ..., 3.8500e+01,\n",
       "          0.0000e+00, 5.1932e-01],\n",
       "         [0.0000e+00, 1.1900e+00, 0.0000e+00,  ..., 1.8500e+01,\n",
       "          0.0000e+00, 0.0000e+00],\n",
       "         ...,\n",
       "         [2.7833e+02, 0.0000e+00, 0.0000e+00,  ..., 2.6000e+01,\n",
       "          0.0000e+00, 6.0984e+02],\n",
       "         [3.5020e+01, 0.0000e+00, 0.0000e+00,  ..., 5.0000e+01,\n",
       "          0.0000e+00, 6.5982e+02],\n",
       "         [1.2248e+02, 2.0000e-02, 0.0000e+00,  ..., 4.9500e+01,\n",
       "          0.0000e+00, 2.4778e+02]],\n",
       "\n",
       "        [[1.7300e+01, 1.4900e+00, 0.0000e+00,  ..., 3.8500e+01,\n",
       "          0.0000e+00, 5.1932e-01],\n",
       "         [0.0000e+00, 1.1900e+00, 0.0000e+00,  ..., 1.8500e+01,\n",
       "          0.0000e+00, 0.0000e+00],\n",
       "         [1.0000e+00, 1.2500e+00, 0.0000e+00,  ..., 3.3000e+01,\n",
       "          0.0000e+00, 2.4630e+01],\n",
       "         ...,\n",
       "         [3.5020e+01, 0.0000e+00, 0.0000e+00,  ..., 5.0000e+01,\n",
       "          0.0000e+00, 6.5982e+02],\n",
       "         [1.2248e+02, 2.0000e-02, 0.0000e+00,  ..., 4.9500e+01,\n",
       "          0.0000e+00, 2.4778e+02],\n",
       "         [1.5220e+01, 1.3700e+00, 2.0000e+00,  ..., 2.9500e+01,\n",
       "          5.0000e+00, 4.4060e+01]],\n",
       "\n",
       "        [[0.0000e+00, 1.1900e+00, 0.0000e+00,  ..., 1.8500e+01,\n",
       "          0.0000e+00, 0.0000e+00],\n",
       "         [1.0000e+00, 1.2500e+00, 0.0000e+00,  ..., 3.3000e+01,\n",
       "          0.0000e+00, 2.4630e+01],\n",
       "         [2.8000e+01, 2.3300e+00, 0.0000e+00,  ..., 1.3000e+01,\n",
       "          0.0000e+00, 7.1543e+01],\n",
       "         ...,\n",
       "         [1.2248e+02, 2.0000e-02, 0.0000e+00,  ..., 4.9500e+01,\n",
       "          0.0000e+00, 2.4778e+02],\n",
       "         [1.5220e+01, 1.3700e+00, 2.0000e+00,  ..., 2.9500e+01,\n",
       "          5.0000e+00, 4.4060e+01],\n",
       "         [5.8500e+00, 2.3000e-01, 0.0000e+00,  ..., 4.0000e+01,\n",
       "          1.0000e+00, 3.4690e-01]],\n",
       "\n",
       "        ...,\n",
       "\n",
       "        [[2.7723e+02, 0.0000e+00, 0.0000e+00,  ..., 3.4000e+01,\n",
       "          0.0000e+00, 1.8956e+03],\n",
       "         [1.7262e+02, 6.0000e-02, 0.0000e+00,  ..., 3.5000e+01,\n",
       "          0.0000e+00, 1.3065e+03],\n",
       "         [2.0500e+01, 0.0000e+00, 0.0000e+00,  ..., 4.8500e+01,\n",
       "          0.0000e+00, 3.0394e+02],\n",
       "         ...,\n",
       "         [5.8700e+00, 8.1000e-01, 1.0000e+00,  ..., 2.3000e+01,\n",
       "          0.0000e+00, 3.7560e+03],\n",
       "         [3.1700e+01, 2.1000e-01, 0.0000e+00,  ..., 2.8000e+01,\n",
       "          0.0000e+00, 2.3044e+03],\n",
       "         [8.7600e+01, 0.0000e+00, 0.0000e+00,  ..., 2.9500e+01,\n",
       "          0.0000e+00, 2.1823e+03]],\n",
       "\n",
       "        [[1.7262e+02, 6.0000e-02, 0.0000e+00,  ..., 3.5000e+01,\n",
       "          0.0000e+00, 1.3065e+03],\n",
       "         [2.0500e+01, 0.0000e+00, 0.0000e+00,  ..., 4.8500e+01,\n",
       "          0.0000e+00, 3.0394e+02],\n",
       "         [7.7000e+00, 6.0000e-02, 0.0000e+00,  ..., 5.2000e+01,\n",
       "          0.0000e+00, 3.6875e-01],\n",
       "         ...,\n",
       "         [3.1700e+01, 2.1000e-01, 0.0000e+00,  ..., 2.8000e+01,\n",
       "          0.0000e+00, 2.3044e+03],\n",
       "         [8.7600e+01, 0.0000e+00, 0.0000e+00,  ..., 2.9500e+01,\n",
       "          0.0000e+00, 2.1823e+03],\n",
       "         [2.7100e+01, 2.0000e-02, 0.0000e+00,  ..., 3.5000e+01,\n",
       "          0.0000e+00, 1.6124e+03]],\n",
       "\n",
       "        [[2.0500e+01, 0.0000e+00, 0.0000e+00,  ..., 4.8500e+01,\n",
       "          0.0000e+00, 3.0394e+02],\n",
       "         [7.7000e+00, 6.0000e-02, 0.0000e+00,  ..., 5.2000e+01,\n",
       "          0.0000e+00, 3.6875e-01],\n",
       "         [7.7800e+00, 3.7000e-01, 0.0000e+00,  ..., 5.6000e+01,\n",
       "          0.0000e+00, 7.8971e+01],\n",
       "         ...,\n",
       "         [8.7600e+01, 0.0000e+00, 0.0000e+00,  ..., 2.9500e+01,\n",
       "          0.0000e+00, 2.1823e+03],\n",
       "         [2.7100e+01, 2.0000e-02, 0.0000e+00,  ..., 3.5000e+01,\n",
       "          0.0000e+00, 1.6124e+03],\n",
       "         [9.9650e+01, 0.0000e+00, 0.0000e+00,  ..., 4.3000e+01,\n",
       "          1.0000e+00, 7.6818e+02]]])"
      ]
     },
     "execution_count": 18,
     "metadata": {},
     "output_type": "execute_result"
    }
   ],
   "source": [
    "X_train"
   ]
  },
  {
   "cell_type": "code",
   "execution_count": 19,
   "id": "b064f95a",
   "metadata": {},
   "outputs": [
    {
     "data": {
      "text/plain": [
       "torch.Size([60, 12, 9])"
      ]
     },
     "execution_count": 19,
     "metadata": {},
     "output_type": "execute_result"
    }
   ],
   "source": [
    "X_train.shape"
   ]
  },
  {
   "cell_type": "code",
   "execution_count": 20,
   "id": "11ea2f85",
   "metadata": {},
   "outputs": [
    {
     "data": {
      "text/plain": [
       "9"
      ]
     },
     "execution_count": 20,
     "metadata": {},
     "output_type": "execute_result"
    }
   ],
   "source": [
    "X_train.shape[-1]"
   ]
  },
  {
   "cell_type": "markdown",
   "id": "2662bdbc",
   "metadata": {},
   "source": [
    "### Reshaping to Transform"
   ]
  },
  {
   "cell_type": "code",
   "execution_count": 24,
   "id": "bae02177",
   "metadata": {},
   "outputs": [
    {
     "name": "stdout",
     "output_type": "stream",
     "text": [
      "torch.Size([720, 9])\n"
     ]
    }
   ],
   "source": [
    "X_train_reshaped = X_train.reshape(-1, X_train.shape[-1])\n",
    "X_train_reshaped\n",
    "print(X_train_reshaped.shape)"
   ]
  },
  {
   "cell_type": "code",
   "execution_count": 25,
   "id": "1d48477d",
   "metadata": {},
   "outputs": [
    {
     "data": {
      "text/plain": [
       "torch.Size([180, 9])"
      ]
     },
     "execution_count": 25,
     "metadata": {},
     "output_type": "execute_result"
    }
   ],
   "source": [
    "X_test_reshaped = X_test.reshape(-1, X_test.shape[-1])\n",
    "X_test_reshaped.shape"
   ]
  },
  {
   "cell_type": "markdown",
   "id": "5d52122a",
   "metadata": {},
   "source": [
    "### Scaling Process"
   ]
  },
  {
   "cell_type": "code",
   "execution_count": 26,
   "id": "caf3f323",
   "metadata": {},
   "outputs": [],
   "source": [
    "from sklearn.preprocessing import MinMaxScaler \n",
    "\n",
    "scaler_X = MinMaxScaler()\n",
    "X_train_scaled = scaler_X.fit_transform(X_train_reshaped.numpy())\n",
    "X_test_scaled  = scaler_X.transform(X_test_reshaped.numpy())\n",
    "\n",
    "X_train_final = torch.tensor(X_train_scaled.reshape(X_train.shape), dtype = torch.float32)\n",
    "X_test_final  = torch.tensor(X_test_scaled.reshape(X_test.shape), dtype = torch.float32)\n",
    "\n",
    "scaler_y = MinMaxScaler()\n",
    "y_train_scaled = scaler_y.fit_transform(y_train.reshape(-1, 1).numpy())\n",
    "y_test_scaled  = scaler_y.transform(y_test.reshape(-1,1).numpy())\n",
    "\n",
    "y_train_final = torch.tensor(y_train_scaled, dtype = torch.float32)\n",
    "y_test_final  = torch.tensor(y_test_scaled, dtype = torch.float32)"
   ]
  },
  {
   "cell_type": "code",
   "execution_count": 45,
   "id": "19f334f3",
   "metadata": {},
   "outputs": [
    {
     "data": {
      "text/plain": [
       "[<matplotlib.lines.Line2D at 0x135046eb0>]"
      ]
     },
     "execution_count": 45,
     "metadata": {},
     "output_type": "execute_result"
    },
    {
     "data": {
      "image/png": "[encoded data removed]",
      "text/plain": [
       "<Figure size 640x480 with 1 Axes>"
      ]
     },
     "metadata": {},
     "output_type": "display_data"
    }
   ],
   "source": [
    "y_train_final.shape\n",
    "plt.plot(np.linspace(1, len(y_train_final), 60), y_train_final[:,0], '--o')"
   ]
  },
  {
   "cell_type": "code",
   "execution_count": null,
   "id": "43faac7f",
   "metadata": {},
   "outputs": [],
   "source": []
  },
  {
   "cell_type": "code",
   "execution_count": null,
   "id": "4a34f18d",
   "metadata": {},
   "outputs": [],
   "source": []
  }
 ],
 "metadata": {
  "kernelspec": {
   "display_name": "env",
   "language": "python",
   "name": "python3"
  },
  "language_info": {
   "codemirror_mode": {
    "name": "ipython",
    "version": 3
   },
   "file_extension": ".py",
   "mimetype": "text/x-python",
   "name": "python",
   "nbconvert_exporter": "python",
   "pygments_lexer": "ipython3",
   "version": "3.9.6"
  }
 },
 "nbformat": 4,
 "nbformat_minor": 5
}
