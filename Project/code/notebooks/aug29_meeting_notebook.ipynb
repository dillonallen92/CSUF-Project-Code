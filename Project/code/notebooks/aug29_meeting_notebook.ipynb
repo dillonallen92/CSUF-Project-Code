{
 "cells": [
  {
   "cell_type": "markdown",
   "id": "c25a23c4",
   "metadata": {},
   "source": [
    "# Meeting Notebook for August 29, 2025\n",
    "\n",
    "## Preliminary Notes:\n",
    "From the August 21 meeting, we established that a transformer model on the aggregated data with a dashboard alone was not sufficient because the amount of data was very small. Instead, we have pivoted to an LSTM/Transformer/DLinear model comparison with the following changes:\n",
    "- Consider a collection of neighboring counties. Grab the environmental variables from each of the other counties and use that data as extra columns in the feature vector.\n",
    "- What is the definition of neighboring counties? Well, we want to stretch this definition to three possible interpretations: \n",
    "  1. Contiguous connection\n",
    "  2. All of the central valley counties\n",
    "  3. All counties surrounding the central valley\n",
    "- From a recent paper, it seems rats and other rodents are carriers for Coccidioidomycosis. So look into getting rat spray data\n",
    "- Eventually convert this into a better dashboard (stretch goal)\n"
   ]
  },
  {
   "cell_type": "code",
   "execution_count": 1,
   "id": "cdffdf9a",
   "metadata": {},
   "outputs": [],
   "source": [
    "import pandas as pd \n",
    "import numpy as np \n",
    "import matplotlib.pyplot as plt\n",
    "import sys \n",
    "import os \n",
    "\n",
    "sys.path.append(os.path.abspath('..'))"
   ]
  },
  {
   "cell_type": "code",
   "execution_count": 3,
   "id": "eac8e62d",
   "metadata": {},
   "outputs": [],
   "source": [
    "# Set up the data\n",
    "\n",
    "all_county_df = pd.read_csv(\"../../data/county_adjacency_list.csv\")"
   ]
  },
  {
   "cell_type": "code",
   "execution_count": 4,
   "id": "bd7c1c66",
   "metadata": {},
   "outputs": [
    {
     "data": {
      "text/html": [
       "<div>\n",
       "<style scoped>\n",
       "    .dataframe tbody tr th:only-of-type {\n",
       "        vertical-align: middle;\n",
       "    }\n",
       "\n",
       "    .dataframe tbody tr th {\n",
       "        vertical-align: top;\n",
       "    }\n",
       "\n",
       "    .dataframe thead th {\n",
       "        text-align: right;\n",
       "    }\n",
       "</style>\n",
       "<table border=\"1\" class=\"dataframe\">\n",
       "  <thead>\n",
       "    <tr style=\"text-align: right;\">\n",
       "      <th></th>\n",
       "      <th>County Name</th>\n",
       "      <th>County GEOID</th>\n",
       "      <th>Neighbor Name</th>\n",
       "      <th>Neighbor GEOID</th>\n",
       "    </tr>\n",
       "  </thead>\n",
       "  <tbody>\n",
       "    <tr>\n",
       "      <th>0</th>\n",
       "      <td>Autauga County, AL</td>\n",
       "      <td>1001</td>\n",
       "      <td>Autauga County, AL</td>\n",
       "      <td>1001</td>\n",
       "    </tr>\n",
       "    <tr>\n",
       "      <th>1</th>\n",
       "      <td>Autauga County, AL</td>\n",
       "      <td>1001</td>\n",
       "      <td>Chilton County, AL</td>\n",
       "      <td>1021</td>\n",
       "    </tr>\n",
       "    <tr>\n",
       "      <th>2</th>\n",
       "      <td>Autauga County, AL</td>\n",
       "      <td>1001</td>\n",
       "      <td>Dallas County, AL</td>\n",
       "      <td>1047</td>\n",
       "    </tr>\n",
       "    <tr>\n",
       "      <th>3</th>\n",
       "      <td>Autauga County, AL</td>\n",
       "      <td>1001</td>\n",
       "      <td>Elmore County, AL</td>\n",
       "      <td>1051</td>\n",
       "    </tr>\n",
       "    <tr>\n",
       "      <th>4</th>\n",
       "      <td>Autauga County, AL</td>\n",
       "      <td>1001</td>\n",
       "      <td>Lowndes County, AL</td>\n",
       "      <td>1085</td>\n",
       "    </tr>\n",
       "  </tbody>\n",
       "</table>\n",
       "</div>"
      ],
      "text/plain": [
       "          County Name  County GEOID       Neighbor Name  Neighbor GEOID\n",
       "0  Autauga County, AL          1001  Autauga County, AL            1001\n",
       "1  Autauga County, AL          1001  Chilton County, AL            1021\n",
       "2  Autauga County, AL          1001   Dallas County, AL            1047\n",
       "3  Autauga County, AL          1001   Elmore County, AL            1051\n",
       "4  Autauga County, AL          1001  Lowndes County, AL            1085"
      ]
     },
     "execution_count": 4,
     "metadata": {},
     "output_type": "execute_result"
    }
   ],
   "source": [
    "all_county_df.head()"
   ]
  },
  {
   "cell_type": "code",
   "execution_count": 12,
   "id": "a7799c91",
   "metadata": {},
   "outputs": [],
   "source": [
    "adj_map = (\n",
    "  # first remove the repeat of county_name and neighbor_name, as every county is its own\n",
    "  # neighbor\n",
    "  all_county_df[all_county_df['County Name'] != all_county_df['Neighbor Name']]\n",
    "\n",
    "  # you want to groupby the county_name but then select the neighbors\n",
    "  .groupby('County Name')['Neighbor Name']\n",
    "\n",
    "  # sort, remove repeats, and remove any NAs\n",
    "  .apply(lambda s_: sorted(s_.dropna().unique()))\n",
    "\n",
    "  # Convert to a dict for easy searching\n",
    "  .to_dict()\n",
    ")"
   ]
  },
  {
   "cell_type": "code",
   "execution_count": 11,
   "id": "9f84259d",
   "metadata": {},
   "outputs": [
    {
     "data": {
      "text/plain": [
       "['Inyo County, CA',\n",
       " 'Kings County, CA',\n",
       " 'Madera County, CA',\n",
       " 'Merced County, CA',\n",
       " 'Mono County, CA',\n",
       " 'Monterey County, CA',\n",
       " 'San Benito County, CA',\n",
       " 'Tulare County, CA']"
      ]
     },
     "execution_count": 11,
     "metadata": {},
     "output_type": "execute_result"
    }
   ],
   "source": [
    "adj_map[\"Fresno County, CA\"]"
   ]
  },
  {
   "cell_type": "code",
   "execution_count": null,
   "id": "58c0007b",
   "metadata": {},
   "outputs": [],
   "source": []
  }
 ],
 "metadata": {
  "kernelspec": {
   "display_name": "env",
   "language": "python",
   "name": "python3"
  },
  "language_info": {
   "codemirror_mode": {
    "name": "ipython",
    "version": 3
   },
   "file_extension": ".py",
   "mimetype": "text/x-python",
   "name": "python",
   "nbconvert_exporter": "python",
   "pygments_lexer": "ipython3",
   "version": "3.9.6"
  }
 },
 "nbformat": 4,
 "nbformat_minor": 5
}
